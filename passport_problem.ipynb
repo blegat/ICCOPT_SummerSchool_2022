{
 "cells": [
  {
   "cell_type": "markdown",
   "metadata": {},
   "source": [
    "# The passport problem\n",
    "\n",
    "This notebook illustrates basic data manipulation in Julia and formulation of a set covering problem in JuMP."
   ]
  },
  {
   "cell_type": "code",
   "execution_count": null,
   "metadata": {},
   "outputs": [],
   "source": [
    "using CSV\n",
    "using DataFrames\n",
    "using JuMP\n",
    "using HiGHS"
   ]
  },
  {
   "cell_type": "code",
   "execution_count": null,
   "metadata": {},
   "outputs": [],
   "source": [
    "const DATA_DIR = joinpath(@__DIR__, \"data\")"
   ]
  },
  {
   "cell_type": "markdown",
   "metadata": {},
   "source": [
    "The [Passport Index Dataset](https://github.com/ilyankou/passport-index-dataset) lists travel visa requirements for 199 countries, in .csv format. The version in this repository is updated as of July 3, 2022."
   ]
  },
  {
   "cell_type": "code",
   "execution_count": null,
   "metadata": {},
   "outputs": [],
   "source": [
    "passport_data = CSV.read(\n",
    "    joinpath(DATA_DIR, \"passport-index-matrix.csv\"),\n",
    "    DataFrames.DataFrame,\n",
    ")"
   ]
  },
  {
   "cell_type": "markdown",
   "metadata": {},
   "source": [
    "The first column represents the passport held. The remaining columns indicate the destination.\n",
    "What countries are included in the list?"
   ]
  },
  {
   "cell_type": "code",
   "execution_count": null,
   "metadata": {},
   "outputs": [],
   "source": [
    "all_countries = passport_data[!, \"Passport\"]"
   ]
  },
  {
   "cell_type": "markdown",
   "metadata": {},
   "source": [
    "Let's transform this into a 199 x 199 matrix."
   ]
  },
  {
   "cell_type": "code",
   "execution_count": null,
   "metadata": {},
   "outputs": [],
   "source": [
    "raw_passport_matrix = Matrix(passport_data[:, all_countries])"
   ]
  },
  {
   "cell_type": "markdown",
   "metadata": {},
   "source": [
    "Let's explore the values in the dataset."
   ]
  },
  {
   "cell_type": "code",
   "execution_count": null,
   "metadata": {},
   "outputs": [],
   "source": [
    "raw_passport_matrix[7, 4] # Visa requirements for Argentina passport holders entering Andorra"
   ]
  },
  {
   "cell_type": "markdown",
   "metadata": {},
   "source": [
    "This means that Argentina passport holders can stay in Andorra for 90 days without a visa."
   ]
  },
  {
   "cell_type": "code",
   "execution_count": null,
   "metadata": {},
   "outputs": [],
   "source": [
    "print(unique(raw_passport_matrix)) # All distinct values in the matrix."
   ]
  },
  {
   "cell_type": "code",
   "execution_count": null,
   "metadata": {},
   "outputs": [],
   "source": [
    "# The following function takes a code from the matrix and returns true\n",
    "# when entry is allowed without a visa or when a visa is granted on arrival,\n",
    "# and false otherwise.\n",
    "function can_we_enter(code)\n",
    "    if code == \"visa free\" || code == \"visa on arrival\" || code isa Int\n",
    "        return true\n",
    "    end\n",
    "    try\n",
    "        val = parse(Int, code)\n",
    "        return true\n",
    "    catch\n",
    "        return false\n",
    "    end\n",
    "end"
   ]
  },
  {
   "cell_type": "code",
   "execution_count": null,
   "metadata": {},
   "outputs": [],
   "source": [
    "can_we_enter(\"visa required\")"
   ]
  },
  {
   "cell_type": "code",
   "execution_count": null,
   "metadata": {},
   "outputs": [],
   "source": [
    "can_we_enter(90)"
   ]
  },
  {
   "cell_type": "code",
   "execution_count": null,
   "metadata": {},
   "outputs": [],
   "source": [
    "can_we_enter(\"90\")"
   ]
  },
  {
   "cell_type": "code",
   "execution_count": null,
   "metadata": {},
   "outputs": [],
   "source": [
    "can_we_enter(\"e-visa\")"
   ]
  },
  {
   "cell_type": "markdown",
   "metadata": {},
   "source": [
    "Now, create a boolean matrix where entry (i,j) indicates if passport holders from country i can enter country j without a visa (or visa on arrival)."
   ]
  },
  {
   "cell_type": "code",
   "execution_count": null,
   "metadata": {},
   "outputs": [],
   "source": [
    "passport_coverage = map(can_we_enter, raw_passport_matrix)"
   ]
  },
  {
   "cell_type": "markdown",
   "metadata": {},
   "source": [
    "Finally, we can pose the optimization problem:\n",
    "\n",
    "**What's the smallest number of passports needed to enable visa-free travel to all countries?**"
   ]
  },
  {
   "cell_type": "code",
   "execution_count": null,
   "metadata": {},
   "outputs": [],
   "source": [
    "# Create a new JuMP model using the HiGHS solver.\n",
    "model = Model(HiGHS.Optimizer)"
   ]
  },
  {
   "cell_type": "code",
   "execution_count": null,
   "metadata": {},
   "outputs": [],
   "source": [
    "# Define a vector of binary decision variables, one for each passport that can be held.\n",
    "@variable(model, passport_taken[i=1:length(all_countries)], Bin);"
   ]
  },
  {
   "cell_type": "code",
   "execution_count": null,
   "metadata": {},
   "outputs": [],
   "source": [
    "# The objective is to minimize the number of passports held.\n",
    "@objective(model, Min, sum(passport_taken));"
   ]
  },
  {
   "cell_type": "markdown",
   "metadata": {},
   "source": [
    "**Exercise**: Add constraints to ensure that all countries are covered."
   ]
  },
  {
   "cell_type": "code",
   "execution_count": null,
   "metadata": {},
   "outputs": [],
   "source": [
    "@constraint(model, #= FILL IN HERE =# .>= 1);\n",
    "# Alternatively, you could write a loop:\n",
    "# for i in 1:length(all_countries)\n",
    "#   @constraint(model, #= FILL IN HERE =# >= 1)\n",
    "# end"
   ]
  },
  {
   "cell_type": "code",
   "execution_count": null,
   "metadata": {},
   "outputs": [],
   "source": [
    "optimize!(model)"
   ]
  },
  {
   "cell_type": "code",
   "execution_count": null,
   "metadata": {},
   "outputs": [],
   "source": [
    "termination_status(model)"
   ]
  },
  {
   "cell_type": "code",
   "execution_count": null,
   "metadata": {},
   "outputs": [],
   "source": [
    "println(\"Minimum number of passports needed: \", objective_value(model))"
   ]
  },
  {
   "cell_type": "code",
   "execution_count": null,
   "metadata": {},
   "outputs": [],
   "source": [
    "print(all_countries[value.(passport_taken) .>= 0.99])"
   ]
  },
  {
   "cell_type": "markdown",
   "metadata": {},
   "source": [
    "**Exercise:** Which countries *must* be included because they require visas from all others?\n",
    "\n",
    "As a sanity check, are they included in your optimal solution?\n",
    "\n",
    "*Hint:* ``sum(passport_coverage, dims=1)`` sums along the rows of the ``passport_coverage`` matrix"
   ]
  },
  {
   "cell_type": "code",
   "execution_count": null,
   "metadata": {},
   "outputs": [],
   "source": [
    "all_countries[#= FILL IN HERE =#]\n",
    "# Alternatively, write a for loop."
   ]
  }
 ],
 "metadata": {
  "kernelspec": {
   "display_name": "Julia 1.7.3",
   "language": "julia",
   "name": "julia-1.7"
  },
  "language_info": {
   "file_extension": ".jl",
   "mimetype": "application/julia",
   "name": "julia",
   "version": "1.7.3"
  },
  "orig_nbformat": 4
 },
 "nbformat": 4,
 "nbformat_minor": 2
}
