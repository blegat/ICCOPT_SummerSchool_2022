{
 "cells": [
  {
   "cell_type": "markdown",
   "metadata": {},
   "source": [
    "# Rocket Control"
   ]
  },
  {
   "cell_type": "markdown",
   "metadata": {},
   "source": [
    "This tutorial shows how to solve a nonlinear rocketry control problem.\n",
    "The problem was drawn from the [COPS3](https://www.mcs.anl.gov/~more/cops/cops3.pdf)\n",
    "benchmark."
   ]
  },
  {
   "cell_type": "markdown",
   "metadata": {},
   "source": [
    "Our goal is to maximize the final altitude of a vertically launched rocket."
   ]
  },
  {
   "cell_type": "markdown",
   "metadata": {},
   "source": [
    "We can control the thrust of the rocket, and must take account of the rocket\n",
    "mass, fuel consumption rate, gravity, and aerodynamic drag."
   ]
  },
  {
   "cell_type": "markdown",
   "metadata": {},
   "source": [
    "Let us consider the basic description of the model (for the full description,\n",
    "including parameters for the rocket, see the COPS3 PDF)"
   ]
  },
  {
   "cell_type": "markdown",
   "metadata": {},
   "source": [
    "### Overview"
   ]
  },
  {
   "cell_type": "markdown",
   "metadata": {},
   "source": [
    "We will use a discretized model of time, with a fixed number of time steps,\n",
    "$n$."
   ]
  },
  {
   "cell_type": "markdown",
   "metadata": {},
   "source": [
    "We will make the time step size $\\Delta t$, and thus the final time\n",
    "$t_f = n \\cdot \\Delta t$, a variable in the problem. To approximate the\n",
    "derivatives in the problem we will use the [trapezoidal rule](https://en.wikipedia.org/wiki/Trapezoidal_rule)."
   ]
  },
  {
   "cell_type": "markdown",
   "metadata": {},
   "source": [
    "### State and Control"
   ]
  },
  {
   "cell_type": "markdown",
   "metadata": {},
   "source": [
    "We will have three state variables:\n",
    "\n",
    "* Velocity, $v$\n",
    "* Altitude, $h$\n",
    "* Mass of rocket and remaining fuel, $m$\n",
    "\n",
    "and a single control variable, thrust $T$."
   ]
  },
  {
   "cell_type": "markdown",
   "metadata": {},
   "source": [
    "Our goal is thus to maximize $h(t_f)$."
   ]
  },
  {
   "cell_type": "markdown",
   "metadata": {},
   "source": [
    "Each of these corresponds to a JuMP variable indexed by the time step."
   ]
  },
  {
   "cell_type": "markdown",
   "metadata": {},
   "source": [
    "### Dynamics"
   ]
  },
  {
   "cell_type": "markdown",
   "metadata": {},
   "source": [
    "We have three equations that control the dynamics of the rocket:\n",
    "\n",
    "Rate of ascent: $$h^\\prime = v$$\n",
    "Acceleration: $$v^\\prime = \\frac{T - D(h,v)}{m} - g(h)$$\n",
    "Rate of mass loss: $$m^\\prime = -\\frac{T}{c}$$\n",
    "\n",
    "where drag $D(h,v)$ is a function of altitude and velocity, and gravity\n",
    "$g(h)$ is a function of altitude."
   ]
  },
  {
   "cell_type": "markdown",
   "metadata": {},
   "source": [
    "These forces are defined as\n",
    "\n",
    "$$D(h,v) = D_c v^2 exp\\left( -h_c \\left( \\frac{h-h(0)}{h(0)} \\right) \\right)$$\n",
    "and\n",
    "$$g(h) = g_0 \\left( \\frac{h(0)}{h} \\right)^2$$\n",
    "\n",
    "The three rate equations correspond to JuMP constraints, and for convenience\n",
    "we will represent the forces with nonlinear expressions."
   ]
  },
  {
   "cell_type": "code",
   "execution_count": null,
   "metadata": {},
   "outputs": [],
   "source": [
    "using JuMP\n",
    "import Ipopt\n",
    "import Plots"
   ]
  },
  {
   "cell_type": "markdown",
   "metadata": {},
   "source": [
    "Create JuMP model, using Ipopt as the solver"
   ]
  },
  {
   "cell_type": "code",
   "execution_count": null,
   "metadata": {},
   "outputs": [],
   "source": [
    "rocket = Model(Ipopt.Optimizer)\n",
    "set_silent(rocket)"
   ]
  },
  {
   "cell_type": "markdown",
   "metadata": {},
   "source": [
    "## Constants"
   ]
  },
  {
   "cell_type": "markdown",
   "metadata": {},
   "source": [
    "Note that all parameters in the model have been normalized\n",
    "to be dimensionless. See the COPS3 paper for more info."
   ]
  },
  {
   "cell_type": "code",
   "execution_count": null,
   "metadata": {},
   "outputs": [],
   "source": [
    "h_0 = 1    # Initial height\n",
    "v_0 = 0    # Initial velocity\n",
    "m_0 = 1    # Initial mass\n",
    "g_0 = 1    # Gravity at the surface\n",
    "\n",
    "T_c = 3.5  # Used for thrust\n",
    "h_c = 500  # Used for drag\n",
    "v_c = 620  # Used for drag\n",
    "m_c = 0.6  # Fraction of initial mass left at end\n",
    "\n",
    "c = 0.5 * sqrt(g_0 * h_0)  # Thrust-to-fuel mass\n",
    "m_f = m_c * m_0              # Final mass\n",
    "D_c = 0.5 * v_c * m_0 / g_0  # Drag scaling\n",
    "T_max = T_c * g_0 * m_0        # Maximum thrust\n",
    "\n",
    "n = 800    # Time steps"
   ]
  },
  {
   "cell_type": "markdown",
   "metadata": {},
   "source": [
    "## Decision variables"
   ]
  },
  {
   "cell_type": "code",
   "execution_count": null,
   "metadata": {},
   "outputs": [],
   "source": [
    "@variables(rocket, begin\n",
    "    Δt ≥ 0, (start = 1 / n) # Time step\n",
    "    # State variables\n",
    "    v[1:n] ≥ 0            # Velocity\n",
    "    h[1:n] ≥ h_0          # Height\n",
    "    m_f ≤ m[1:n] ≤ m_0    # Mass\n",
    "    # Control variables\n",
    "    0 ≤ T[1:n] ≤ T_max    # Thrust\n",
    "end)"
   ]
  },
  {
   "cell_type": "markdown",
   "metadata": {},
   "source": [
    "## Objective"
   ]
  },
  {
   "cell_type": "markdown",
   "metadata": {},
   "source": [
    "The objective is to maximize altitude at end of time of flight."
   ]
  },
  {
   "cell_type": "code",
   "execution_count": null,
   "metadata": {},
   "outputs": [],
   "source": [
    "@objective(rocket, Max, h[n])"
   ]
  },
  {
   "cell_type": "markdown",
   "metadata": {},
   "source": [
    "## Initial conditions"
   ]
  },
  {
   "cell_type": "code",
   "execution_count": null,
   "metadata": {},
   "outputs": [],
   "source": [
    "fix(v[1], v_0; force = true)\n",
    "fix(h[1], h_0; force = true)\n",
    "fix(m[1], m_0; force = true)\n",
    "fix(m[n], m_f; force = true)"
   ]
  },
  {
   "cell_type": "markdown",
   "metadata": {},
   "source": [
    "## Forces"
   ]
  },
  {
   "cell_type": "code",
   "execution_count": null,
   "metadata": {},
   "outputs": [],
   "source": [
    "@NLexpressions(\n",
    "    rocket,\n",
    "    begin\n",
    "        # Drag(h,v) = Dc v^2 exp( -hc * (h - h0) / h0 )\n",
    "        drag[j = 1:n], D_c * (v[j]^2) * exp(-h_c * (h[j] - h_0) / h_0)\n",
    "        # Grav(h)   = go * (h0 / h)^2\n",
    "        grav[j = 1:n], g_0 * (h_0 / h[j])^2\n",
    "        # Time of flight\n",
    "        t_f, Δt * n\n",
    "    end\n",
    ")"
   ]
  },
  {
   "cell_type": "markdown",
   "metadata": {},
   "source": [
    "## Dynamics"
   ]
  },
  {
   "cell_type": "code",
   "execution_count": null,
   "metadata": {},
   "outputs": [],
   "source": [
    "for j in 2:n\n",
    "    # h' = v\n",
    "    # Rectangular integration\n",
    "    # @NLconstraint(rocket, h[j] == h[j - 1] + Δt * v[j - 1])\n",
    "    # Trapezoidal integration\n",
    "    @NLconstraint(rocket, h[j] == h[j-1] + 0.5 * Δt * (v[j] + v[j-1]))\n",
    "    # v' = (T-D(h,v))/m - g(h)\n",
    "    # Rectangular integration\n",
    "    # @NLconstraint(\n",
    "    #     rocket,\n",
    "    #     v[j] == v[j - 1] + Δt *((T[j - 1] - drag[j - 1]) / m[j - 1] - grav[j - 1])\n",
    "    # )\n",
    "    # Trapezoidal integration\n",
    "    @NLconstraint(\n",
    "        rocket,\n",
    "        v[j] ==\n",
    "        v[j-1] +\n",
    "        0.5 *\n",
    "        Δt *\n",
    "        (\n",
    "            (T[j] - drag[j] - m[j] * grav[j]) / m[j] +\n",
    "            (T[j-1] - drag[j-1] - m[j-1] * grav[j-1]) / m[j-1]\n",
    "        )\n",
    "    )\n",
    "    # m' = -T/c\n",
    "    # Rectangular integration\n",
    "    # @NLconstraint(rocket, m[j] == m[j - 1] - Δt * T[j - 1] / c)\n",
    "    # Trapezoidal integration\n",
    "    @NLconstraint(rocket, m[j] == m[j-1] - 0.5 * Δt * (T[j] + T[j-1]) / c)\n",
    "end"
   ]
  },
  {
   "cell_type": "markdown",
   "metadata": {},
   "source": [
    "Solve for the control and state"
   ]
  },
  {
   "cell_type": "code",
   "execution_count": null,
   "metadata": {},
   "outputs": [],
   "source": [
    "println(\"Solving...\")\n",
    "optimize!(rocket)\n",
    "solution_summary(rocket)"
   ]
  },
  {
   "cell_type": "markdown",
   "metadata": {},
   "source": [
    "## Display results"
   ]
  },
  {
   "cell_type": "code",
   "execution_count": null,
   "metadata": {},
   "outputs": [],
   "source": [
    "println(\"Max height: \", objective_value(rocket))"
   ]
  },
  {
   "cell_type": "code",
   "execution_count": null,
   "metadata": {},
   "outputs": [],
   "source": [
    "function my_plot(y, ylabel)\n",
    "    return Plots.plot(\n",
    "        (1:n) * value.(Δt),\n",
    "        value.(y)[:];\n",
    "        xlabel = \"Time (s)\",\n",
    "        ylabel = ylabel,\n",
    "    )\n",
    "end\n",
    "\n",
    "Plots.plot(\n",
    "    my_plot(h, \"Altitude\"),\n",
    "    my_plot(m, \"Mass\"),\n",
    "    my_plot(v, \"Velocity\"),\n",
    "    my_plot(T, \"Thrust\");\n",
    "    layout = (2, 2),\n",
    "    legend = false,\n",
    "    margin = 1Plots.cm,\n",
    ")"
   ]
  },
  {
   "cell_type": "markdown",
   "metadata": {},
   "source": [
    "---\n",
    "\n",
    "*This notebook was generated using [Literate.jl](https://github.com/fredrikekre/Literate.jl).*"
   ]
  }
 ],
 "metadata": {
  "kernelspec": {
   "display_name": "Julia 1.7.3",
   "language": "julia",
   "name": "julia-1.7"
  },
  "language_info": {
   "file_extension": ".jl",
   "mimetype": "application/julia",
   "name": "julia",
   "version": "1.7.3"
  }
 },
 "nbformat": 4,
 "nbformat_minor": 3
}
