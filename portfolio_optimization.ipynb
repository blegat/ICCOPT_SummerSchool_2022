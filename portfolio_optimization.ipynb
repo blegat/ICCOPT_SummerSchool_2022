{
 "cells": [
  {
   "cell_type": "markdown",
   "metadata": {},
   "source": [
    "# Portfolio optimization"
   ]
  },
  {
   "cell_type": "markdown",
   "metadata": {},
   "source": [
    "This notebook is based on https://jump.dev/JuMP.jl/dev/tutorials/nonlinear/portfolio/, with new content for conic formulations."
   ]
  },
  {
   "cell_type": "code",
   "execution_count": null,
   "metadata": {},
   "outputs": [],
   "source": [
    "using JuMP\n",
    "import Clarabel\n",
    "import Statistics\n",
    "import LinearAlgebra\n",
    "import Dualization"
   ]
  },
  {
   "cell_type": "markdown",
   "metadata": {},
   "source": [
    "Recall the [Markowitz model](https://en.wikipedia.org/wiki/Markowitz_model) for portfolio optimization.\n",
    "The task is to choose a combination of assets to purchase with a fixed budget $B$.\n",
    "We assume the future returns on $N$ assets follow a Gaussian distribution with known mean $r$ and covariance $\\Sigma$.\n",
    "\n",
    "The portfolio $x$ that minimizes risk subject to obtaining a desired expected level of returns $R$ is the solution of the optimization problem:\n",
    "\n",
    "$$\n",
    "\\begin{align}\n",
    "\\min&\\,x^T\\Sigma x\\\\\n",
    "s.t.&\\sum_{i=1}^N x_i \\le B \\\\\n",
    "&r^Tx \\ge R\\\\\n",
    "&x \\ge 0\n",
    "\\end{align}\n",
    "$$"
   ]
  },
  {
   "cell_type": "markdown",
   "metadata": {},
   "source": [
    "We'll use some very old data (from [here](https://www2.isye.gatech.edu/~sahmed/isye6669/)) to set up a toy version of this problem."
   ]
  },
  {
   "cell_type": "markdown",
   "metadata": {},
   "source": [
    "| Month        |  IBM     |  WMT    |  SEHI  |\n",
    "|--------------|----------|---------|--------|\n",
    "| November-00  |  93.043  |  51.826 |  1.063 |\n",
    "| December-00  |  84.585  |  52.823 |  0.938 |\n",
    "| January-01   |  111.453 |  56.477 |  1.000 |\n",
    "| February-01  |  99.525  |  49.805 |  0.938 |\n",
    "| March-01     |  95.819  |  50.287 |  1.438 |\n",
    "| April-01     |  114.708 |  51.521 |  1.700 |\n",
    "| May-01       |  111.515 |  51.531 |  2.540 |\n",
    "| June-01      |  113.211 |  48.664 |  2.390 |\n",
    "| July-01      |  104.942 |  55.744 |  3.120 |\n",
    "| August-01    |  99.827  |  47.916 |  2.980 |\n",
    "| September-01 |  91.607  |  49.438 |  1.900 |\n",
    "| October-01   |  107.937 |  51.336 |  1.750 |\n",
    "| November-01  |  115.590 |  55.081 |  1.800 |"
   ]
  },
  {
   "cell_type": "code",
   "execution_count": null,
   "metadata": {},
   "outputs": [],
   "source": [
    "stock_data = [\n",
    "    93.043 51.826 1.063\n",
    "    84.585 52.823 0.938\n",
    "    111.453 56.477 1.000\n",
    "    99.525 49.805 0.938\n",
    "    95.819 50.287 1.438\n",
    "    114.708 51.521 1.700\n",
    "    111.515 51.531 2.540\n",
    "    113.211 48.664 2.390\n",
    "    104.942 55.744 3.120\n",
    "    99.827 47.916 2.980\n",
    "    91.607 49.438 1.900\n",
    "    107.937 51.336 1.750\n",
    "    115.590 55.081 1.800\n",
    "]"
   ]
  },
  {
   "cell_type": "code",
   "execution_count": null,
   "metadata": {},
   "outputs": [],
   "source": [
    "stock_returns = (stock_data[2:13,:] - stock_data[1:12,:]) ./ stock_data[1:12,:]"
   ]
  },
  {
   "cell_type": "code",
   "execution_count": null,
   "metadata": {},
   "outputs": [],
   "source": [
    "mean_returns = Statistics.mean(stock_returns; dims = 1)"
   ]
  },
  {
   "cell_type": "code",
   "execution_count": null,
   "metadata": {},
   "outputs": [],
   "source": [
    "cov_returns = Statistics.cov(stock_returns)"
   ]
  },
  {
   "cell_type": "markdown",
   "metadata": {},
   "source": [
    "Ok, time for some optimiztion!"
   ]
  },
  {
   "cell_type": "code",
   "execution_count": null,
   "metadata": {},
   "outputs": [],
   "source": [
    "qp_portfolio = Model(Clarabel.Optimizer)\n",
    "@variable(qp_portfolio, allocation[1:3] >= 0)\n",
    "@objective(qp_portfolio, Min, allocation' * cov_returns * allocation)\n",
    "@constraint(qp_portfolio, sum(allocation) <= 1000)\n",
    "@constraint(qp_portfolio, sum(mean_returns[i] * allocation[i] for i in 1:3) >= 50)\n",
    "optimize!(qp_portfolio)"
   ]
  },
  {
   "cell_type": "code",
   "execution_count": null,
   "metadata": {},
   "outputs": [],
   "source": [
    "objective_value(qp_portfolio)"
   ]
  },
  {
   "cell_type": "code",
   "execution_count": null,
   "metadata": {},
   "outputs": [],
   "source": [
    "value.(allocation)"
   ]
  },
  {
   "cell_type": "markdown",
   "metadata": {},
   "source": [
    "## Conic version\n",
    "\n",
    "You may have heard something about [conic optimization](https://en.wikipedia.org/wiki/Conic_optimization). We'll reformulate the above problem into the form of a conic optimization problem."
   ]
  },
  {
   "cell_type": "markdown",
   "metadata": {},
   "source": [
    "JuMP's [`SecondOrderCone()`](https://jump.dev/JuMP.jl/stable/reference/constraints/#JuMP.SecondOrderCone) is defined as the set\n",
    "$\\{(t, x) \\in \\mathbb{R}^{\\text{dim}} : t \\ge ||x||_2\\}$.\n",
    "\n",
    "Given a Cholesky decomposition $Q = LL^T$, it follows that $x^TQx = x^TLL^Tx = ||L^Tx||^2$. "
   ]
  },
  {
   "cell_type": "code",
   "execution_count": null,
   "metadata": {},
   "outputs": [],
   "source": [
    "cov_factor = Matrix(#= Compute the L or L^T factor of Q here =#)"
   ]
  },
  {
   "cell_type": "code",
   "execution_count": null,
   "metadata": {},
   "outputs": [],
   "source": [
    "socp_portfolio = Model(Clarabel.Optimizer)\n",
    "@variable(socp_portfolio, allocation[1:3] >= 0)\n",
    "@variable(socp_portfolio, soc_epigraph)\n",
    "@objective(socp_portfolio, Min, soc_epigraph)\n",
    "@constraint(socp_portfolio, [soc_epigraph; #= fill in here =#] in SecondOrderCone())\n",
    "@constraint(socp_portfolio, sum(allocation) <= 1000)\n",
    "@constraint(socp_portfolio, sum(mean_returns[i] * allocation[i] for i in 1:3) >= 50)\n",
    "optimize!(socp_portfolio)"
   ]
  },
  {
   "cell_type": "code",
   "execution_count": null,
   "metadata": {},
   "outputs": [],
   "source": [
    "objective_value(socp_portfolio)^2"
   ]
  },
  {
   "cell_type": "code",
   "execution_count": null,
   "metadata": {},
   "outputs": [],
   "source": [
    "value.(allocation)"
   ]
  },
  {
   "cell_type": "code",
   "execution_count": null,
   "metadata": {},
   "outputs": [],
   "source": [
    "print(socp_portfolio)"
   ]
  },
  {
   "cell_type": "code",
   "execution_count": null,
   "metadata": {},
   "outputs": [],
   "source": [
    "dualized_socp_portfolio = Dualization.dualize(socp_portfolio)\n",
    "print(dualized_socp_portfolio)"
   ]
  },
  {
   "cell_type": "code",
   "execution_count": null,
   "metadata": {},
   "outputs": [],
   "source": [
    "set_optimizer(socp_portfolio, Dualization.dual_optimizer(Clarabel.Optimizer))"
   ]
  },
  {
   "cell_type": "code",
   "execution_count": null,
   "metadata": {},
   "outputs": [],
   "source": [
    "optimize!(socp_portfolio)"
   ]
  },
  {
   "cell_type": "code",
   "execution_count": null,
   "metadata": {},
   "outputs": [],
   "source": [
    "objective_value(socp_portfolio)^2"
   ]
  },
  {
   "cell_type": "code",
   "execution_count": null,
   "metadata": {},
   "outputs": [],
   "source": [
    "value.(allocation)"
   ]
  }
 ],
 "metadata": {
  "kernelspec": {
   "display_name": "Julia 1.7.3",
   "language": "julia",
   "name": "julia-1.7"
  },
  "language_info": {
   "file_extension": ".jl",
   "mimetype": "application/julia",
   "name": "julia",
   "version": "1.7.3"
  },
  "orig_nbformat": 4,
  "vscode": {
   "interpreter": {
    "hash": "31f2aee4e71d21fbe5cf8b01ff0e069b9275f58929596ceb00d14d90e3e16cd6"
   }
  }
 },
 "nbformat": 4,
 "nbformat_minor": 2
}
